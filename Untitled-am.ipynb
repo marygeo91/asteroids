{
 "cells": [
  {
   "cell_type": "markdown",
   "metadata": {},
   "source": [
    "\n",
    "Computational astrophy test site:¶\n",
    "\n",
    "co owned by Sara Kok, Maria Georganti and Athul Muralidhar Jan, 2018\n",
    "\n",
    "This source code is written in Python-3 All values in AU, Solar system units\n"
   ]
  },
  {
   "cell_type": "code",
   "execution_count": 1,
   "metadata": {
    "collapsed": true
   },
   "outputs": [],
   "source": [
    "import numpy as np\n",
    "import matplotlib.pyplot as plt\n",
    "%matplotlib notebook \n",
    "from time import time\n",
    "from matplotlib import animation"
   ]
  },
  {
   "cell_type": "code",
   "execution_count": 15,
   "metadata": {
    "scrolled": false
   },
   "outputs": [
    {
     "name": "stdout",
     "output_type": "stream",
     "text": [
      "[[ 0.  0.]\n",
      " [ 0.  0.]\n",
      " [ 0.  0.]]\n",
      "[ 4.9495244  0.       ]\n",
      "time take: 0.0011546611785888672\n"
     ]
    }
   ],
   "source": [
    "s = time()\n",
    "\n",
    "a = 5.204         # semi major axis (units of AU)\n",
    "e = 0.0489        # eccentricity \n",
    "G = 4*(np.pi**2)  # gravitational constant (units of M_sun, AU and year)\n",
    "M_sun = 1.       # solar mass \n",
    "M_j =1/1047.*M_sun # fraction of M_sun\n",
    "\n",
    "\n",
    "\n",
    "def symplectic_jupiter(time,h):\n",
    "    '''This function applies the Euler-Cromer (or Symplectic Integrator) method for solving differntial equations'''\n",
    "    # position and velocity arrays \n",
    "    n = int(time/h)  \n",
    "#     print(n)\n",
    "    r = np.zeros((3,n))\n",
    "#     print(r)\n",
    "    v = np.zeros((3,n))\n",
    "    print(v)\n",
    "    radius = np.zeros(n)\n",
    "    accel_sun=np.zeros(n)\n",
    "    \n",
    "    r[0,0] = 0.0\n",
    "    r[1,0] = a*(1-e)\n",
    "    r[2,0] = 0.0\n",
    "    v[0,0] = -np.sqrt((G*M_sun/a) * (1+e)/(1-e))\n",
    "    v[1,0] = 0.0\n",
    "    v[2,0] = 0.0\n",
    "#     print(r)\n",
    "    \n",
    "    for t in range(n-1):\n",
    "        radius[t] = np.sqrt(np.sum(r[:,t]**2))\n",
    "        print(radius)\n",
    "        accel_sun[t]= -G*M_sun/(radius[t]**3)\n",
    "        v[:,t+1] =  v[:,t] + h*accel_sun[t]*r[:,t]\n",
    "#         print(v)\n",
    "        r[:,t+1] =  r[:,t] + h*v[:,t+1]\n",
    "\n",
    "\n",
    "# # lin.alg\n",
    "#     for t in range(n-1):\n",
    "#         radius[t] = np.sqrt( r[0,t]**2 + r[1,t]**2)\n",
    "#         print(radius)\n",
    "#         accel_sun[t]= -G*M_sun/(radius[t]**3)\n",
    "        \n",
    "#         for dim in range(2):\n",
    "#             v[dim,t+1] =  v[dim,t] + h*accel_sun[t]*r[dim,t]\n",
    "# #             print(v)\n",
    "#             r[dim,t+1] =  r[dim,t] + h*v[dim,t+1]\n",
    "\n",
    "    return r,v\n",
    "\n",
    "\n",
    "    \n",
    "years = 1.\n",
    "timestep = 0.5\n",
    "r_j, v_j =symplectic_jupiter(years,timestep)\n",
    "# print(r_j)\n",
    "e=time()\n",
    "print(\"time take:\",e-s)"
   ]
  },
  {
   "cell_type": "markdown",
   "metadata": {
    "collapsed": true
   },
   "source": [
    "# notes:\n",
    "\n",
    "time normal = 0.003884553909301758\n",
    "\n",
    "changing from [i][j] to [i,j] dosent make a difference"
   ]
  },
  {
   "cell_type": "code",
   "execution_count": 3,
   "metadata": {},
   "outputs": [
    {
     "name": "stdout",
     "output_type": "stream",
     "text": [
      "[[1 0 0]\n",
      " [0 1 0]\n",
      " [0 0 1]]\n",
      "[[5 5 5]\n",
      " [5 5 5]\n",
      " [5 5 5]]\n",
      "[[75 75 75]\n",
      " [75 75 75]\n",
      " [75 75 75]]\n"
     ]
    }
   ],
   "source": [
    "a = np.full((3,3),5)\n",
    "b = np.array(([1,0,0],[0,1,0],[0,0,1]))\n",
    "print(b)\n",
    "print(a)\n",
    "c = np.einsum('ij,jk',a,a)\n",
    "print(c)"
   ]
  },
  {
   "cell_type": "code",
   "execution_count": null,
   "metadata": {
    "collapsed": true
   },
   "outputs": [],
   "source": []
  }
 ],
 "metadata": {
  "kernelspec": {
   "display_name": "Python 3",
   "language": "python",
   "name": "python3"
  },
  "language_info": {
   "codemirror_mode": {
    "name": "ipython",
    "version": 3
   },
   "file_extension": ".py",
   "mimetype": "text/x-python",
   "name": "python",
   "nbconvert_exporter": "python",
   "pygments_lexer": "ipython3",
   "version": "3.6.4"
  }
 },
 "nbformat": 4,
 "nbformat_minor": 2
}
