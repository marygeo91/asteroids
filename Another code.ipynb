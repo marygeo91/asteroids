{
 "cells": [
  {
   "cell_type": "code",
   "execution_count": 55,
   "metadata": {},
   "outputs": [],
   "source": [
    "import numpy as np\n",
    "from numpy.random import random\n",
    "from numpy.random import randint\n",
    "import matplotlib.pyplot as plt\n",
    "from mpl_toolkits.mplot3d import Axes3D\n",
    "import seaborn as sns\n",
    "\n",
    "a = 5.204         # semi major axis (units of AU)\n",
    "e = 0.0489        # eccentricity \n",
    "G = 4*(np.pi**2)  # gravitational constant (units of M_sun, AU and year)\n",
    "M_sun = 1.       # solar mass \n",
    "M_j =1/1047.*M_sun # fraction of M_sun\n",
    "h=0.01\n",
    "\n",
    "\n",
    "def symplectic_jupiter(time,h):\n",
    "    '''This function applies the Euler-Cromer (or Symplectic Integrator) method for solving differntial equations'''\n",
    "    # position and velocity arrays \n",
    "    n = int(time/h)  \n",
    "    r = np.zeros((3,n))\n",
    "    v = np.zeros((3,n))\n",
    "    radius = np.zeros(n)\n",
    "    accel_sun=np.zeros(n)\n",
    "    \n",
    "    r[0][0] = 0.0\n",
    "    r[1][0] = a*(1-e)\n",
    "    r[2][0] = 0.0\n",
    "    v[0][0] = -np.sqrt((G*M_sun/a) * (1+e)/(1-e))\n",
    "    v[1][0] = 0.0\n",
    "    v[2][0] = 0.0\n",
    "    \n",
    "    for t in range(n-1):\n",
    "        radius[t] = np.sqrt( r[0][t]**2 + r[1][t]**2)\n",
    "        accel_sun[t]= -G*M_sun/(radius[t]**3)\n",
    "        \n",
    "        for dim in range(2):\n",
    "            v[dim][t+1] =  v[dim][t] + h*accel_sun[t]*r[dim][t]\n",
    "            r[dim][t+1] =  r[dim][t] + h*v[dim][t+1] \n",
    "         \n",
    "    return r,v\n",
    "\n",
    "\n",
    "def symplectic_astroid(time,h):\n",
    "    '''This function applies the Euler-Cromer (or Symplectic Integrator) method for solving differntial equations'''\n",
    "    n = int(time/h)  \n",
    "    r = np.zeros((3,n))\n",
    "    v = np.zeros((3,n))\n",
    "    radius = np.zeros(n)\n",
    "    radius_j = np.zeros(n)\n",
    "    accel_sun = np.zeros(n)\n",
    "    accel_j = np.zeros(n)\n",
    "    \n",
    "    radius0 = np.random.uniform(1.0,3.5)\n",
    "    theta0 = np.random.uniform(0.0,2*np.pi)\n",
    "    \n",
    "    r[0][0] = radius0*np.cos(theta0)\n",
    "    r[1][0] = radius0*np.sin(theta0)\n",
    "    r[2][0] = 1/2000.*radius0*np.sin(theta0)\n",
    "    v[0][0] = -np.sqrt(G/radius0 *(1+e)/(1-e))*np.sin(theta0)\n",
    "    v[1][0] = np.random.uniform(0.0,2*np.pi)\n",
    "    v[2][0] = 0.0#0.000001\n",
    "    \n",
    "    for t in range(0,n-1):\n",
    "        radius[t] = np.sqrt( r[0][t]**2 + r[1][t]**2 + r[2][t]**2)\n",
    "        \n",
    "        \n",
    "        if (radius[t] < 1.0 or radius[t] > 5) :\n",
    "            r = np.delete(r, (0,1,2), axis=0)\n",
    "            v = np.delete(v, (0,1,2), axis=0)\n",
    "            break\n",
    "        \n",
    "        radius_j[t] = np.sqrt( (r[0][t]-r_j[0][t])**2 + (r[1][t]-r_j[1][t])**2 +r[2][t]**2)\n",
    "\n",
    "        accel_j[t] = -G*M_j/(radius_j[t]**3)  \n",
    "        accel_sun[t]= -G*M_sun/(radius[t]**3)        \n",
    "        \n",
    "        v[:,t+1] =  v[:,t] + h* ( accel_j[t]*(r[:,t] - r_j[:,t]) + accel_sun[t]*r[:,t] )\n",
    "        r[:,t+1] =  r[:,t] + h * v[:,t+1]    \n",
    "    #print(radius[-2])  \n",
    "    \n",
    "    return r, v, radius[-2] # -2 to get last radius (at end of time)\n",
    "\n",
    "# def plotting(time,h,number=1,zoom=6.0):\n",
    "    \n",
    "#     fig = plt.figure()\n",
    "#     ax = fig.add_subplot(111, projection='3d')\n",
    "    \n",
    "#     ax.plot(*r_j)\n",
    "    \n",
    "#     for i in range(number):\n",
    "#         r_as, v_as, rad_as = symplectic_astroid(time,h)\n",
    "# #        print(rad_as)\n",
    "#         if (r_as.any() == True) :\n",
    "#             ax.plot(*r_as)\n",
    "# #            r_as = np.reshape(r_as, (int(3*time/h),1))\n",
    "#     x = rad_as[0][:]\n",
    "#     y = r_as[1][:]\n",
    "#     z = r_as[2][:]\n",
    "#     np.savetxt('asteroidData.txt', np.c_[r_as[0], y, z, radius])\n",
    "    \n",
    "#     ax.set_xlabel(\"x position\", fontsize=16)\n",
    "#     ax.set_ylabel(\"y position\",fontsize=16)\n",
    "#     ax.legend(loc = 'best', fontsize = 15)\n",
    "#     ax.set_title(\"time= \" + str(time) + \", h= \" +str(h))\n",
    "#     ax.set_aspect('equal','datalim')\n",
    "#     ax.set_xlim(-zoom,zoom)\n",
    "#     ax.set_ylim(-zoom,zoom)\n",
    "#     ax.set_zlim(-0.1,0.1)\n",
    "#     plt.show()\n",
    "    \n",
    "# years = 50.\n",
    "# timestep = 1/365.\n",
    "# numberOfAsteroids = 50.\n",
    "# r_j, v_j =symplectic_jupiter(years,timestep)\n",
    "# plotting(years,timestep, number=numberOfAsteroids, zoom=10)\n",
    "\n",
    "\n",
    "\n",
    "# print(\"end of code\")"
   ]
  },
  {
   "cell_type": "code",
   "execution_count": 41,
   "metadata": {
    "scrolled": false
   },
   "outputs": [
    {
     "data": {
      "image/png": "[encoded data removed]",
      "text/plain": [
       "<matplotlib.figure.Figure at 0x11e046450>"
      ]
     },
     "metadata": {},
     "output_type": "display_data"
    }
   ],
   "source": [
    "jup_pos = symplectic_jupiter(50,0.01)[0][0]\n",
    "jup_vel = symplectic_jupiter(50,0.01)[0][1]\n",
    "\n",
    "plt.plot(jup_pos,jup_vel)\n",
    "plt.show()\n",
    "\n",
    "# print symplectic_jupiter(100,0.01)[1]\n"
   ]
  },
  {
   "cell_type": "code",
   "execution_count": 56,
   "metadata": {},
   "outputs": [
    {
     "name": "stdout",
     "output_type": "stream",
     "text": [
      "(array([], shape=(0, 100), dtype=float64), array([], shape=(0, 100), dtype=float64), 0.0)\n"
     ]
    }
   ],
   "source": [
    "print symplectic_astroid(10,0.1)"
   ]
  },
  {
   "cell_type": "code",
   "execution_count": null,
   "metadata": {
    "collapsed": true
   },
   "outputs": [],
   "source": []
  }
 ],
 "metadata": {
  "kernelspec": {
   "display_name": "Python 2",
   "language": "python",
   "name": "python2"
  },
  "language_info": {
   "codemirror_mode": {
    "name": "ipython",
    "version": 2
   },
   "file_extension": ".py",
   "mimetype": "text/x-python",
   "name": "python",
   "nbconvert_exporter": "python",
   "pygments_lexer": "ipython2",
   "version": "2.7.13"
  }
 },
 "nbformat": 4,
 "nbformat_minor": 2
}
